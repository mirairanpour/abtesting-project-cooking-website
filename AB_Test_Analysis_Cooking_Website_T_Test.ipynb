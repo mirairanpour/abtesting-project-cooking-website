{
 "cells": [
  {
   "cell_type": "markdown",
   "id": "d896a3c6",
   "metadata": {},
   "source": [
    "# A/B test for the cooking website"
   ]
  },
  {
   "cell_type": "code",
   "execution_count": 23,
   "id": "ef381e2b",
   "metadata": {},
   "outputs": [
    {
     "data": {
      "text/html": [
       "<div>\n",
       "<style scoped>\n",
       "    .dataframe tbody tr th:only-of-type {\n",
       "        vertical-align: middle;\n",
       "    }\n",
       "\n",
       "    .dataframe tbody tr th {\n",
       "        vertical-align: top;\n",
       "    }\n",
       "\n",
       "    .dataframe thead th {\n",
       "        text-align: right;\n",
       "    }\n",
       "</style>\n",
       "<table border=\"1\" class=\"dataframe\">\n",
       "  <thead>\n",
       "    <tr style=\"text-align: right;\">\n",
       "      <th></th>\n",
       "      <th>Variant</th>\n",
       "      <th>Number of page views</th>\n",
       "      <th>GMV (in $)</th>\n",
       "      <th>Number of add to cart</th>\n",
       "      <th>Clicks on media</th>\n",
       "      <th>Time on Page (sec)</th>\n",
       "      <th>user_id</th>\n",
       "    </tr>\n",
       "  </thead>\n",
       "  <tbody>\n",
       "    <tr>\n",
       "      <th>0</th>\n",
       "      <td>A</td>\n",
       "      <td>5</td>\n",
       "      <td>0.0</td>\n",
       "      <td>0</td>\n",
       "      <td>2</td>\n",
       "      <td>74</td>\n",
       "      <td>0</td>\n",
       "    </tr>\n",
       "    <tr>\n",
       "      <th>1</th>\n",
       "      <td>A</td>\n",
       "      <td>4</td>\n",
       "      <td>0.0</td>\n",
       "      <td>4</td>\n",
       "      <td>1</td>\n",
       "      <td>21</td>\n",
       "      <td>1</td>\n",
       "    </tr>\n",
       "    <tr>\n",
       "      <th>2</th>\n",
       "      <td>A</td>\n",
       "      <td>4</td>\n",
       "      <td>0.0</td>\n",
       "      <td>2</td>\n",
       "      <td>0</td>\n",
       "      <td>1</td>\n",
       "      <td>2</td>\n",
       "    </tr>\n",
       "    <tr>\n",
       "      <th>3</th>\n",
       "      <td>A</td>\n",
       "      <td>5</td>\n",
       "      <td>0.0</td>\n",
       "      <td>0</td>\n",
       "      <td>1</td>\n",
       "      <td>26</td>\n",
       "      <td>3</td>\n",
       "    </tr>\n",
       "    <tr>\n",
       "      <th>4</th>\n",
       "      <td>A</td>\n",
       "      <td>5</td>\n",
       "      <td>0.0</td>\n",
       "      <td>3</td>\n",
       "      <td>3</td>\n",
       "      <td>46</td>\n",
       "      <td>4</td>\n",
       "    </tr>\n",
       "  </tbody>\n",
       "</table>\n",
       "</div>"
      ],
      "text/plain": [
       "  Variant  Number of page views  GMV (in $)  Number of add to cart  \\\n",
       "0       A                     5         0.0                      0   \n",
       "1       A                     4         0.0                      4   \n",
       "2       A                     4         0.0                      2   \n",
       "3       A                     5         0.0                      0   \n",
       "4       A                     5         0.0                      3   \n",
       "\n",
       "   Clicks on media  Time on Page (sec)  user_id  \n",
       "0                2                  74        0  \n",
       "1                1                  21        1  \n",
       "2                0                   1        2  \n",
       "3                1                  26        3  \n",
       "4                3                  46        4  "
      ]
     },
     "execution_count": 23,
     "metadata": {},
     "output_type": "execute_result"
    }
   ],
   "source": [
    "import pandas as pd\n",
    "import seaborn as sns\n",
    "import matplotlib.pyplot as plt\n",
    "from scipy import stats\n",
    "from scipy.stats import ttest_ind\n",
    "import numpy as np\n",
    "\n",
    "data = pd.read_csv('assessment_da25.csv')\n",
    "data.head()"
   ]
  },
  {
   "cell_type": "code",
   "execution_count": 4,
   "id": "f5a5ce7e-c92c-4161-b998-84fd3b756ce9",
   "metadata": {},
   "outputs": [
    {
     "name": "stdout",
     "output_type": "stream",
     "text": [
      "<class 'pandas.core.frame.DataFrame'>\n",
      "RangeIndex: 2000 entries, 0 to 1999\n",
      "Data columns (total 7 columns):\n",
      " #   Column                 Non-Null Count  Dtype  \n",
      "---  ------                 --------------  -----  \n",
      " 0   Variant                2000 non-null   object \n",
      " 1   Number of page views   2000 non-null   int64  \n",
      " 2   GMV (in $)             2000 non-null   float64\n",
      " 3   Number of add to cart  2000 non-null   int64  \n",
      " 4   Clicks on media        2000 non-null   int64  \n",
      " 5   Time on Page (sec)     2000 non-null   int64  \n",
      " 6   user_id                2000 non-null   int64  \n",
      "dtypes: float64(1), int64(5), object(1)\n",
      "memory usage: 109.5+ KB\n"
     ]
    }
   ],
   "source": [
    "data.info()"
   ]
  },
  {
   "cell_type": "markdown",
   "id": "e4da1073-5153-46a5-9a6d-7bf4c59b39ea",
   "metadata": {},
   "source": [
    "## aggregating metrics"
   ]
  },
  {
   "cell_type": "code",
   "execution_count": 19,
   "id": "8d510d8e",
   "metadata": {},
   "outputs": [
    {
     "data": {
      "text/html": [
       "<div>\n",
       "<style scoped>\n",
       "    .dataframe tbody tr th:only-of-type {\n",
       "        vertical-align: middle;\n",
       "    }\n",
       "\n",
       "    .dataframe tbody tr th {\n",
       "        vertical-align: top;\n",
       "    }\n",
       "\n",
       "    .dataframe thead th {\n",
       "        text-align: right;\n",
       "    }\n",
       "</style>\n",
       "<table border=\"1\" class=\"dataframe\">\n",
       "  <thead>\n",
       "    <tr style=\"text-align: right;\">\n",
       "      <th></th>\n",
       "      <th>Variant</th>\n",
       "      <th>Number of page views</th>\n",
       "      <th>GMV (in $)</th>\n",
       "      <th>Number of add to cart</th>\n",
       "      <th>Clicks on media</th>\n",
       "      <th>Time on Page (sec)</th>\n",
       "    </tr>\n",
       "  </thead>\n",
       "  <tbody>\n",
       "    <tr>\n",
       "      <th>0</th>\n",
       "      <td>A</td>\n",
       "      <td>4.985</td>\n",
       "      <td>7.68999</td>\n",
       "      <td>1.884</td>\n",
       "      <td>1.495</td>\n",
       "      <td>20.543</td>\n",
       "    </tr>\n",
       "    <tr>\n",
       "      <th>1</th>\n",
       "      <td>B</td>\n",
       "      <td>5.317</td>\n",
       "      <td>9.28953</td>\n",
       "      <td>2.469</td>\n",
       "      <td>1.324</td>\n",
       "      <td>20.047</td>\n",
       "    </tr>\n",
       "  </tbody>\n",
       "</table>\n",
       "</div>"
      ],
      "text/plain": [
       "  Variant  Number of page views  GMV (in $)  Number of add to cart  \\\n",
       "0       A                 4.985     7.68999                  1.884   \n",
       "1       B                 5.317     9.28953                  2.469   \n",
       "\n",
       "   Clicks on media  Time on Page (sec)  \n",
       "0            1.495              20.543  \n",
       "1            1.324              20.047  "
      ]
     },
     "execution_count": 19,
     "metadata": {},
     "output_type": "execute_result"
    }
   ],
   "source": [
    "metrics_by_variant = test_data.groupby('Variant').agg({\n",
    "    'Number of page views': 'mean',\n",
    "    'GMV (in $)': 'mean',\n",
    "    'Number of add to cart': 'mean',\n",
    "    'Clicks on media': 'mean',\n",
    "    'Time on Page (sec)': 'mean',\n",
    "}).reset_index()\n",
    "\n",
    "metrics_by_variant"
   ]
  },
  {
   "cell_type": "code",
   "execution_count": 28,
   "id": "7bfdd9e9-05a3-48d2-8d92-0994b0c776e2",
   "metadata": {},
   "outputs": [
    {
     "name": "stdout",
     "output_type": "stream",
     "text": [
      "Variant\n",
      "A    1000\n",
      "B    1000\n",
      "Name: count, dtype: int64\n"
     ]
    }
   ],
   "source": [
    "# Checking the sample size\n",
    "sample_sizes = data['Variant'].value_counts()\n",
    "print(sample_sizes)"
   ]
  },
  {
   "cell_type": "markdown",
   "id": "24e5ec1d",
   "metadata": {},
   "source": [
    "## Distributions"
   ]
  },
  {
   "cell_type": "code",
   "execution_count": 34,
   "id": "ebfda461",
   "metadata": {},
   "outputs": [
    {
     "data": {
      "image/png": "[encoded data removed]",
      "text/plain": [
       "<Figure size 1800x600 with 4 Axes>"
      ]
     },
     "metadata": {},
     "output_type": "display_data"
    }
   ],
   "source": [
    "fig, axes = plt.subplots(1, 4, figsize=(18, 6))\n",
    "\n",
    "sns.histplot(data=data, x=\"Number of page views\", hue=\"Variant\", kde=True, ax=axes[0], element=\"step\")\n",
    "axes[0].set_title('Distribution of # of page views by Variant')\n",
    "\n",
    "sns.histplot(data=data, x=\"Time on Page (sec)\", hue=\"Variant\", kde=True, ax=axes[1], element=\"step\")\n",
    "axes[1].set_title('Distribution of Time on Page by Variant')\n",
    "\n",
    "sns.histplot(data=data, x=\"Clicks on media\", hue=\"Variant\", kde=True, ax=axes[2], element=\"step\")\n",
    "axes[2].set_title('Distribution of Clicks on Media by Variant')\n",
    "\n",
    "sns.histplot(data=data, x=\"GMV (in $)\", hue=\"Variant\", kde=True, ax=axes[3], element=\"step\")\n",
    "axes[3].set_title('Distribution of GMV (in $) by Variant')\n",
    "\n",
    "\n",
    "plt.show()"
   ]
  },
  {
   "cell_type": "code",
   "execution_count": 40,
   "id": "5260951c-fff7-49a6-b3d2-62c5400edc11",
   "metadata": {
    "scrolled": true
   },
   "outputs": [
    {
     "name": "stdout",
     "output_type": "stream",
     "text": [
      "Variation A Clicks on media Stats:\n",
      " count    1000.000000\n",
      "mean        1.495000\n",
      "std         1.230239\n",
      "min         0.000000\n",
      "25%         1.000000\n",
      "50%         1.000000\n",
      "75%         2.000000\n",
      "max         6.000000\n",
      "Name: Clicks on media, dtype: float64\n"
     ]
    }
   ],
   "source": [
    "## Distribution attributes for clicks on media in variation a\n",
    "variant_a_stats = data[data['Variant'] == 'A']['Clicks on media'].describe()\n",
    "print(\"Variation A Clicks on media Stats:\\n\", variant_a_stats)"
   ]
  },
  {
   "cell_type": "code",
   "execution_count": 39,
   "id": "bb12c268-b1e8-49c3-a98c-c190a9b03833",
   "metadata": {
    "scrolled": true
   },
   "outputs": [
    {
     "name": "stdout",
     "output_type": "stream",
     "text": [
      "Variant B Clicks on media Stats:\n",
      " count    1000.000000\n",
      "mean        1.324000\n",
      "std         1.180855\n",
      "min         0.000000\n",
      "25%         0.000000\n",
      "50%         1.000000\n",
      "75%         2.000000\n",
      "max         7.000000\n",
      "Name: Clicks on media, dtype: float64\n"
     ]
    }
   ],
   "source": [
    "## Distribution attributes for clicks on media in variation b\n",
    "variant_a_stats = data[data['Variant'] == 'B']['Clicks on media'].describe()\n",
    "print(\"Variant B Clicks on media Stats:\\n\", variant_a_stats)"
   ]
  },
  {
   "cell_type": "code",
   "execution_count": 33,
   "id": "e82d2308-7197-42c0-bd78-b503c3b7fac8",
   "metadata": {
    "scrolled": true
   },
   "outputs": [
    {
     "name": "stdout",
     "output_type": "stream",
     "text": [
      "Variant A Number of page views Stats:\n",
      " count    1000.000000\n",
      "mean        4.985000\n",
      "std         2.236465\n",
      "min         0.000000\n",
      "25%         3.000000\n",
      "50%         5.000000\n",
      "75%         6.000000\n",
      "max        12.000000\n",
      "Name: Number of page views, dtype: float64\n"
     ]
    }
   ],
   "source": [
    "## Distribution attributes for Number of page views in variation a\n",
    "variant_a_stats = data[data['Variant'] == 'A']['Number of page views'].describe()\n",
    "print(\"Variant A Number of page views Stats:\\n\", variant_a_stats)"
   ]
  },
  {
   "cell_type": "code",
   "execution_count": 34,
   "id": "23d9e144-2666-48ef-9d9d-643aed8c6af1",
   "metadata": {
    "scrolled": true
   },
   "outputs": [
    {
     "name": "stdout",
     "output_type": "stream",
     "text": [
      "Variant B Number of page views Stats:\n",
      " count    1000.000000\n",
      "mean        5.317000\n",
      "std         2.417096\n",
      "min         0.000000\n",
      "25%         3.000000\n",
      "50%         5.000000\n",
      "75%         7.000000\n",
      "max        15.000000\n",
      "Name: Number of page views, dtype: float64\n"
     ]
    }
   ],
   "source": [
    "## Distribution attributes for Number of page views in variation b\n",
    "variant_a_stats = data[data['Variant'] == 'B']['Number of page views'].describe()\n",
    "print(\"Variant B Number of page views Stats:\\n\", variant_a_stats)"
   ]
  },
  {
   "cell_type": "code",
   "execution_count": 35,
   "id": "5158a7aa-f5fd-455b-b0b8-3c4d37d1d067",
   "metadata": {
    "scrolled": true
   },
   "outputs": [
    {
     "name": "stdout",
     "output_type": "stream",
     "text": [
      "Variant A Time on Page (sec) Stats:\n",
      " count    1000.000000\n",
      "mean       20.543000\n",
      "std        20.596076\n",
      "min         1.000000\n",
      "25%         6.000000\n",
      "50%        13.000000\n",
      "75%        29.000000\n",
      "max       143.000000\n",
      "Name: Time on Page (sec), dtype: float64\n"
     ]
    }
   ],
   "source": [
    "## Distribution attributes for Time on Page (sec) in variation a\n",
    "variant_a_stats = data[data['Variant'] == 'A']['Time on Page (sec)'].describe()\n",
    "print(\"Variant A Time on Page (sec) Stats:\\n\", variant_a_stats)"
   ]
  },
  {
   "cell_type": "code",
   "execution_count": 36,
   "id": "7bb18b89-a0df-41a2-8715-092cf24f2c5e",
   "metadata": {
    "scrolled": true
   },
   "outputs": [
    {
     "name": "stdout",
     "output_type": "stream",
     "text": [
      "Variant B Time on Page (sec) Stats:\n",
      " count    1000.000000\n",
      "mean       20.047000\n",
      "std        19.319784\n",
      "min         1.000000\n",
      "25%         7.000000\n",
      "50%        14.000000\n",
      "75%        28.000000\n",
      "max       132.000000\n",
      "Name: Time on Page (sec), dtype: float64\n"
     ]
    }
   ],
   "source": [
    "## Distribution attributes for Time on Page (sec) in variation a\n",
    "variant_a_stats = data[data['Variant'] == 'B']['Time on Page (sec)'].describe()\n",
    "print(\"Variant B Time on Page (sec) Stats:\\n\", variant_a_stats)"
   ]
  },
  {
   "cell_type": "code",
   "execution_count": 37,
   "id": "dbf56459-2b91-4dfb-943d-4d5c9807f2fd",
   "metadata": {
    "scrolled": true
   },
   "outputs": [
    {
     "name": "stdout",
     "output_type": "stream",
     "text": [
      "Variant A GMV (in $) Stats:\n",
      " count    1000.000000\n",
      "mean        7.689990\n",
      "std        26.794816\n",
      "min         0.000000\n",
      "25%         0.000000\n",
      "50%         0.000000\n",
      "75%         0.000000\n",
      "max       152.610000\n",
      "Name: GMV (in $), dtype: float64\n"
     ]
    }
   ],
   "source": [
    "## Distribution attributes for GMV (in $) in variation a\n",
    "variant_a_stats = data[data['Variant'] == 'A']['GMV (in $)'].describe()\n",
    "print(\"Variant A GMV (in $) Stats:\\n\", variant_a_stats)"
   ]
  },
  {
   "cell_type": "code",
   "execution_count": 38,
   "id": "cf96b0bf-c2b6-4069-8fb4-779774730a47",
   "metadata": {
    "scrolled": true
   },
   "outputs": [
    {
     "name": "stdout",
     "output_type": "stream",
     "text": [
      "Variant B GMV (in $) Stats:\n",
      " count    1000.000000\n",
      "mean        9.289530\n",
      "std        28.879687\n",
      "min         0.000000\n",
      "25%         0.000000\n",
      "50%         0.000000\n",
      "75%         0.000000\n",
      "max       141.270000\n",
      "Name: GMV (in $), dtype: float64\n"
     ]
    }
   ],
   "source": [
    "## Distribution attributes for GMV (in $) in variation b\n",
    "variant_a_stats = data[data['Variant'] == 'B']['GMV (in $)'].describe()\n",
    "print(\"Variant B GMV (in $) Stats:\\n\", variant_a_stats)"
   ]
  },
  {
   "cell_type": "markdown",
   "id": "54f8b97e",
   "metadata": {},
   "source": [
    "## two-sample T-test\n",
    "### Conducting the two-tailed T-test for the null hypothesis"
   ]
  },
  {
   "cell_type": "code",
   "execution_count": 12,
   "id": "e6711870-71b7-46a3-b08b-86b5b619205c",
   "metadata": {},
   "outputs": [
    {
     "data": {
      "text/plain": [
       "TtestResult(statistic=3.1710702328903153, pvalue=0.001541857715988478, df=1994.655646693956)"
      ]
     },
     "execution_count": 12,
     "metadata": {},
     "output_type": "execute_result"
    }
   ],
   "source": [
    "stats.ttest_ind(data[data['Variant'] == 'A']['Clicks on media'], data[data['Variant'] == 'B']['Clicks on media'], equal_var=False)"
   ]
  },
  {
   "cell_type": "code",
   "execution_count": 11,
   "id": "95496e5c",
   "metadata": {},
   "outputs": [
    {
     "data": {
      "text/plain": [
       "TtestResult(statistic=-3.1881645133877003, pvalue=0.001454076157215842, df=1986.0667437668926)"
      ]
     },
     "execution_count": 11,
     "metadata": {},
     "output_type": "execute_result"
    }
   ],
   "source": [
    "stats.ttest_ind(data[data['Variant'] == 'A']['Number of page views'], data[data['Variant'] == 'B']['Number of page views'], equal_var=False)"
   ]
  },
  {
   "cell_type": "code",
   "execution_count": 10,
   "id": "07b9bc87-8498-4867-8fdd-7469f932ba17",
   "metadata": {},
   "outputs": [
    {
     "data": {
      "text/plain": [
       "TtestResult(statistic=0.5554299489081426, pvalue=0.5786630478332149, df=1989.8790205360176)"
      ]
     },
     "execution_count": 10,
     "metadata": {},
     "output_type": "execute_result"
    }
   ],
   "source": [
    "stats.ttest_ind(data[data['Variant'] == 'A']['Time on Page (sec)'], data[data['Variant'] == 'B']['Time on Page (sec)'], equal_var=False)"
   ]
  },
  {
   "cell_type": "code",
   "execution_count": 9,
   "id": "2b976819-7dfc-4b6d-9073-09a0ffec710d",
   "metadata": {},
   "outputs": [
    {
     "data": {
      "text/plain": [
       "TtestResult(statistic=-1.2839539769831623, pvalue=0.19930776178517312, df=1986.8862227081215)"
      ]
     },
     "execution_count": 9,
     "metadata": {},
     "output_type": "execute_result"
    }
   ],
   "source": [
    "stats.ttest_ind(data[data['Variant'] == 'A']['GMV (in $)'], data[data['Variant'] == 'B']['GMV (in $)'], equal_var=False)"
   ]
  },
  {
   "cell_type": "code",
   "execution_count": null,
   "id": "9f97b813-e952-4f92-82a0-f1fc7556afb6",
   "metadata": {},
   "outputs": [],
   "source": [
    "## Our primary metric's p-value is smaller than the alpha we assigned (5 percent) which means that we can reject the null hypthsesis for the primary metric and there is a significant difference between the means. for all the other metric is the same except time on page (Sec)"
   ]
  },
  {
   "cell_type": "code",
   "execution_count": 17,
   "id": "ba930166-ba06-49e7-a2aa-5058824eec87",
   "metadata": {},
   "outputs": [
    {
     "name": "stdout",
     "output_type": "stream",
     "text": [
      "T-Statistic: -3.1710702328903153\n",
      "P-value: 0.000770928857994239\n"
     ]
    }
   ],
   "source": [
    "## now we do the test for the alternative hypothsis for the metrics that had a lower p-vale than alpha\n",
    "\n",
    "## Perform t-test with alternative hypothesis that variation A is better (because clicks on media in the variant a is higher)\n",
    "t_statistic, p_value = stats.ttest_ind(data[data['Variant'] == 'B']['Clicks on media'],\n",
    "                                       data[data['Variant'] == 'A']['Clicks on media'],\n",
    "                                       alternative='less', equal_var=False)\n",
    "\n",
    "print(f\"T-Statistic: {t_statistic}\")\n",
    "print(f\"P-value: {p_value}\")\n"
   ]
  },
  {
   "cell_type": "code",
   "execution_count": 15,
   "id": "b8897c63-4f57-454e-af0a-a83af0ace228",
   "metadata": {},
   "outputs": [
    {
     "name": "stdout",
     "output_type": "stream",
     "text": [
      "T-Statistic: 3.1881645133877003\n",
      "P-value: 0.000727038078607921\n"
     ]
    }
   ],
   "source": [
    "t_statistic, p_value = stats.ttest_ind(data[data['Variant'] == 'B']['Number of page views'],\n",
    "                                       data[data['Variant'] == 'A']['Number of page views'],\n",
    "                                       alternative='greater', equal_var=False)\n",
    "\n",
    "print(f\"T-Statistic: {t_statistic}\")\n",
    "print(f\"P-value: {p_value}\")"
   ]
  },
  {
   "cell_type": "code",
   "execution_count": 19,
   "id": "08facf72-6586-4606-8609-c8191bb62f5b",
   "metadata": {},
   "outputs": [
    {
     "name": "stdout",
     "output_type": "stream",
     "text": [
      "T-Statistic: 1.2839539769831623\n",
      "P-value: 0.09965388089258656\n"
     ]
    }
   ],
   "source": [
    "t_statistic, p_value = stats.ttest_ind(data[data['Variant'] == 'B']['GMV (in $)'],\n",
    "                                       data[data['Variant'] == 'A']['GMV (in $)'],\n",
    "                                       alternative='greater', equal_var=False)\n",
    "\n",
    "print(f\"T-Statistic: {t_statistic}\")\n",
    "print(f\"P-value: {p_value}\")"
   ]
  },
  {
   "cell_type": "code",
   "execution_count": 20,
   "id": "7c859c7e-3809-4507-980f-81267ebea8c1",
   "metadata": {},
   "outputs": [],
   "source": [
    "## The result: click on media (our primary metric) is better is variation A. for time on page, there is no significant difference. for number of page views, variation B is better, for gmv, the p-value in our one-tail test is higher than alpha which we don't have strong enough evidence to suggest variation B is performing better in this metric."
   ]
  },
  {
   "cell_type": "code",
   "execution_count": 24,
   "id": "3a6ead1c-c8d0-4077-91ce-29067774ad3e",
   "metadata": {},
   "outputs": [
    {
     "name": "stdout",
     "output_type": "stream",
     "text": [
      "Effect Size (Cohen's d) for clicks on media: 0.14181457204337689\n",
      "95% Confidence Interval for the difference in means for clicks on media: [0.06524485428964767, 0.2767551457103524]\n"
     ]
    }
   ],
   "source": [
    "## calculating effect size and confidence interval for clicks on media\n",
    "variant_a_clicks = data[data['Variant'] == 'A']['Clicks on media']\n",
    "variant_b_clicks = data[data['Variant'] == 'B']['Clicks on media']\n",
    "\n",
    "# Calculating means and standard deviations\n",
    "mean_a = np.mean(variant_a_clicks)\n",
    "mean_b = np.mean(variant_b_clicks)\n",
    "std_a = np.std(variant_a_clicks, ddof=1)\n",
    "std_b = np.std(variant_b_clicks, ddof=1)\n",
    "\n",
    "# Sample sizes\n",
    "n_a = len(variant_a_clicks)\n",
    "n_b = len(variant_b_clicks)\n",
    "\n",
    "# Calculating pooled standard deviation \n",
    "s_pooled = np.sqrt(((n_a - 1) * std_a**2 + (n_b - 1) * std_b**2) / (n_a + n_b - 2))\n",
    "\n",
    "# Calculating effect size \n",
    "d = (mean_a - mean_b) / s_pooled\n",
    "\n",
    "# Calculating standard error and margin of error for a 95% confidence interval\n",
    "se_difference = np.sqrt(std_a**2/n_a + std_b**2/n_b)\n",
    "margin_of_error = stats.t.ppf(0.975, df=n_a + n_b - 2) * se_difference  # 0.975 for 95% CI, adjust for your df\n",
    "\n",
    "# Confidence interval\n",
    "ci_lower = (mean_a - mean_b) - margin_of_error\n",
    "ci_upper = (mean_a - mean_b) + margin_of_error\n",
    "\n",
    "print(f\"Effect Size (Cohen's d) for clicks on media: {d}\")\n",
    "print(f\"95% Confidence Interval for the difference in means for clicks on media: [{ci_lower}, {ci_upper}]\")\n"
   ]
  },
  {
   "cell_type": "code",
   "execution_count": 25,
   "id": "87eb5940-c064-4754-8638-5403669933ec",
   "metadata": {},
   "outputs": [
    {
     "name": "stdout",
     "output_type": "stream",
     "text": [
      "Effect Size (Cohen's d): -0.14257905150774833\n",
      "95% Confidence Interval for the difference in means: [-0.53622486549602, -0.12777513450397968]\n"
     ]
    }
   ],
   "source": [
    "## calculating effect size and confidence interval for number of page views\n",
    "variant_a_clicks = data[data['Variant'] == 'A']['Number of page views']\n",
    "variant_b_clicks = data[data['Variant'] == 'B']['Number of page views']\n",
    "mean_a = np.mean(variant_a_clicks)\n",
    "mean_b = np.mean(variant_b_clicks)\n",
    "std_a = np.std(variant_a_clicks, ddof=1)\n",
    "std_b = np.std(variant_b_clicks, ddof=1)\n",
    "n_a = len(variant_a_clicks)\n",
    "n_b = len(variant_b_clicks)\n",
    "s_pooled = np.sqrt(((n_a - 1) * std_a**2 + (n_b - 1) * std_b**2) / (n_a + n_b - 2))\n",
    "d = (mean_a - mean_b) / s_pooled\n",
    "se_difference = np.sqrt(std_a**2/n_a + std_b**2/n_b)\n",
    "margin_of_error = stats.t.ppf(0.975, df=n_a + n_b - 2) * se_difference  # 0.975 for 95% CI, adjust for your df\n",
    "ci_lower = (mean_a - mean_b) - margin_of_error\n",
    "ci_upper = (mean_a - mean_b) + margin_of_error\n",
    "print(f\"Effect Size (Cohen's d): {d}\")\n",
    "print(f\"95% Confidence Interval for the difference in means: [{ci_lower}, {ci_upper}]\")\n"
   ]
  },
  {
   "cell_type": "code",
   "execution_count": 26,
   "id": "66fd482b-345f-4b2a-b2b8-bd8a1c3cfb99",
   "metadata": {},
   "outputs": [
    {
     "name": "stdout",
     "output_type": "stream",
     "text": [
      "Effect Size (Cohen's d): -0.05742016745031098\n",
      "95% Confidence Interval for the difference in means: [-4.042728112694357, 0.8436481126943574]\n"
     ]
    }
   ],
   "source": [
    "## calculating effect size and confidence interval for gmv \n",
    "variant_a_clicks = data[data['Variant'] == 'A']['GMV (in $)']\n",
    "variant_b_clicks = data[data['Variant'] == 'B']['GMV (in $)']\n",
    "mean_a = np.mean(variant_a_clicks)\n",
    "mean_b = np.mean(variant_b_clicks)\n",
    "std_a = np.std(variant_a_clicks, ddof=1)\n",
    "std_b = np.std(variant_b_clicks, ddof=1)\n",
    "n_a = len(variant_a_clicks)\n",
    "n_b = len(variant_b_clicks)\n",
    "s_pooled = np.sqrt(((n_a - 1) * std_a**2 + (n_b - 1) * std_b**2) / (n_a + n_b - 2))\n",
    "d = (mean_a - mean_b) / s_pooled\n",
    "se_difference = np.sqrt(std_a**2/n_a + std_b**2/n_b)\n",
    "margin_of_error = stats.t.ppf(0.975, df=n_a + n_b - 2) * se_difference  # 0.975 for 95% CI, adjust for your df\n",
    "ci_lower = (mean_a - mean_b) - margin_of_error\n",
    "ci_upper = (mean_a - mean_b) + margin_of_error\n",
    "print(f\"Effect Size (Cohen's d): {d}\")\n",
    "print(f\"95% Confidence Interval for the difference in means: [{ci_lower}, {ci_upper}]\")\n"
   ]
  }
 ],
 "metadata": {
  "kernelspec": {
   "display_name": "Python 3 (ipykernel)",
   "language": "python",
   "name": "python3"
  },
  "language_info": {
   "codemirror_mode": {
    "name": "ipython",
    "version": 3
   },
   "file_extension": ".py",
   "mimetype": "text/x-python",
   "name": "python",
   "nbconvert_exporter": "python",
   "pygments_lexer": "ipython3",
   "version": "3.11.5"
  }
 },
 "nbformat": 4,
 "nbformat_minor": 5
}
